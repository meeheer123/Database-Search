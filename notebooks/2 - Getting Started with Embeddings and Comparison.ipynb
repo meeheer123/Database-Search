{
 "cells": [
  {
   "cell_type": "code",
   "execution_count": 2,
   "id": "f38bcb2a-d951-4b34-9978-0f84eef2930e",
   "metadata": {},
   "outputs": [
    {
     "name": "stderr",
     "output_type": "stream",
     "text": [
      "C:\\Users\\dinne\\OneDrive\\Desktop\\Projects\\Database Search\\venv\\Lib\\site-packages\\sentence_transformers\\cross_encoder\\CrossEncoder.py:11: TqdmExperimentalWarning: Using `tqdm.autonotebook.tqdm` in notebook mode. Use `tqdm.tqdm` instead to force console mode (e.g. in jupyter console)\n",
      "  from tqdm.autonotebook import tqdm, trange\n"
     ]
    }
   ],
   "source": [
    "import numpy as np\n",
    "from sentence_transformers import SentenceTransformer"
   ]
  },
  {
   "cell_type": "code",
   "execution_count": 3,
   "id": "b2e6aea1-68f6-49cd-855a-31345d1e058b",
   "metadata": {},
   "outputs": [
    {
     "data": {
      "application/vnd.jupyter.widget-view+json": {
       "model_id": "683a41327051424aae0aef547fb7f5f2",
       "version_major": 2,
       "version_minor": 0
      },
      "text/plain": [
       "modules.json:   0%|          | 0.00/349 [00:00<?, ?B/s]"
      ]
     },
     "metadata": {},
     "output_type": "display_data"
    },
    {
     "name": "stderr",
     "output_type": "stream",
     "text": [
      "C:\\Users\\dinne\\OneDrive\\Desktop\\Projects\\Database Search\\venv\\Lib\\site-packages\\huggingface_hub\\file_download.py:159: UserWarning: `huggingface_hub` cache-system uses symlinks by default to efficiently store duplicated files but your machine does not support them in C:\\Users\\dinne\\.cache\\huggingface\\hub\\models--sentence-transformers--all-MiniLM-L6-v2. Caching files will still work but in a degraded version that might require more space on your disk. This warning can be disabled by setting the `HF_HUB_DISABLE_SYMLINKS_WARNING` environment variable. For more details, see https://huggingface.co/docs/huggingface_hub/how-to-cache#limitations.\n",
      "To support symlinks on Windows, you either need to activate Developer Mode or to run Python as an administrator. In order to see activate developer mode, see this article: https://docs.microsoft.com/en-us/windows/apps/get-started/enable-your-device-for-development\n",
      "  warnings.warn(message)\n"
     ]
    },
    {
     "data": {
      "application/vnd.jupyter.widget-view+json": {
       "model_id": "61b86476fd644398a9416e671fa967a5",
       "version_major": 2,
       "version_minor": 0
      },
      "text/plain": [
       "config_sentence_transformers.json:   0%|          | 0.00/116 [00:00<?, ?B/s]"
      ]
     },
     "metadata": {},
     "output_type": "display_data"
    },
    {
     "data": {
      "application/vnd.jupyter.widget-view+json": {
       "model_id": "6f7683953edf462694ad9e1978257e0b",
       "version_major": 2,
       "version_minor": 0
      },
      "text/plain": [
       "README.md:   0%|          | 0.00/10.7k [00:00<?, ?B/s]"
      ]
     },
     "metadata": {},
     "output_type": "display_data"
    },
    {
     "data": {
      "application/vnd.jupyter.widget-view+json": {
       "model_id": "9d96fc6b47964f2a924ea9bb78b7625f",
       "version_major": 2,
       "version_minor": 0
      },
      "text/plain": [
       "sentence_bert_config.json:   0%|          | 0.00/53.0 [00:00<?, ?B/s]"
      ]
     },
     "metadata": {},
     "output_type": "display_data"
    },
    {
     "data": {
      "application/vnd.jupyter.widget-view+json": {
       "model_id": "7a32875092804deda6e84d7158feadbc",
       "version_major": 2,
       "version_minor": 0
      },
      "text/plain": [
       "config.json:   0%|          | 0.00/612 [00:00<?, ?B/s]"
      ]
     },
     "metadata": {},
     "output_type": "display_data"
    },
    {
     "data": {
      "application/vnd.jupyter.widget-view+json": {
       "model_id": "c273a61f343d41adb8af21e8d5d227bd",
       "version_major": 2,
       "version_minor": 0
      },
      "text/plain": [
       "model.safetensors:   0%|          | 0.00/90.9M [00:00<?, ?B/s]"
      ]
     },
     "metadata": {},
     "output_type": "display_data"
    },
    {
     "data": {
      "application/vnd.jupyter.widget-view+json": {
       "model_id": "5e79663cb60b4510a451f20491c45983",
       "version_major": 2,
       "version_minor": 0
      },
      "text/plain": [
       "tokenizer_config.json:   0%|          | 0.00/350 [00:00<?, ?B/s]"
      ]
     },
     "metadata": {},
     "output_type": "display_data"
    },
    {
     "data": {
      "application/vnd.jupyter.widget-view+json": {
       "model_id": "d07443e444b041be8da03eadc2c461f9",
       "version_major": 2,
       "version_minor": 0
      },
      "text/plain": [
       "vocab.txt:   0%|          | 0.00/232k [00:00<?, ?B/s]"
      ]
     },
     "metadata": {},
     "output_type": "display_data"
    },
    {
     "data": {
      "application/vnd.jupyter.widget-view+json": {
       "model_id": "e7282aa1e7c548ea8605d96c856e7e3c",
       "version_major": 2,
       "version_minor": 0
      },
      "text/plain": [
       "tokenizer.json:   0%|          | 0.00/466k [00:00<?, ?B/s]"
      ]
     },
     "metadata": {},
     "output_type": "display_data"
    },
    {
     "data": {
      "application/vnd.jupyter.widget-view+json": {
       "model_id": "edd03b3471bd41279d823b0ddc66b6ae",
       "version_major": 2,
       "version_minor": 0
      },
      "text/plain": [
       "special_tokens_map.json:   0%|          | 0.00/112 [00:00<?, ?B/s]"
      ]
     },
     "metadata": {},
     "output_type": "display_data"
    },
    {
     "name": "stderr",
     "output_type": "stream",
     "text": [
      "C:\\Users\\dinne\\OneDrive\\Desktop\\Projects\\Database Search\\venv\\Lib\\site-packages\\transformers\\tokenization_utils_base.py:1601: FutureWarning: `clean_up_tokenization_spaces` was not set. It will be set to `True` by default. This behavior will be depracted in transformers v4.45, and will be then set to `False` by default. For more details check this issue: https://github.com/huggingface/transformers/issues/31884\n",
      "  warnings.warn(\n"
     ]
    },
    {
     "data": {
      "application/vnd.jupyter.widget-view+json": {
       "model_id": "440c240d697541c6be5d37dd200bb326",
       "version_major": 2,
       "version_minor": 0
      },
      "text/plain": [
       "1_Pooling/config.json:   0%|          | 0.00/190 [00:00<?, ?B/s]"
      ]
     },
     "metadata": {},
     "output_type": "display_data"
    }
   ],
   "source": [
    "model = SentenceTransformer(\"all-MiniLM-L6-v2\")"
   ]
  },
  {
   "cell_type": "code",
   "execution_count": 5,
   "id": "7a7246cc-9adf-4183-a208-fde93f73e164",
   "metadata": {},
   "outputs": [
    {
     "data": {
      "text/plain": [
       "['The', 'cat', 'dog', 'jumped', 'over', 'the']"
      ]
     },
     "execution_count": 5,
     "metadata": {},
     "output_type": "execute_result"
    }
   ],
   "source": [
    "split_docs = sorted([\"The dog jumped over the cat\"][0].split(' '))\n",
    "split_docs"
   ]
  },
  {
   "cell_type": "code",
   "execution_count": 6,
   "id": "7f6ca091-f29a-4445-a168-4aaef829325d",
   "metadata": {},
   "outputs": [
    {
     "data": {
      "text/plain": [
       "['The dog jumped over the cat']"
      ]
     },
     "execution_count": 6,
     "metadata": {},
     "output_type": "execute_result"
    }
   ],
   "source": [
    "docs = [\"The dog jumped over the cat\"]\n",
    "docs"
   ]
  },
  {
   "cell_type": "code",
   "execution_count": 7,
   "id": "8c92b811-c453-439c-b63e-b2df4edfe2a6",
   "metadata": {},
   "outputs": [
    {
     "name": "stderr",
     "output_type": "stream",
     "text": [
      "C:\\Users\\dinne\\OneDrive\\Desktop\\Projects\\Database Search\\venv\\Lib\\site-packages\\transformers\\models\\bert\\modeling_bert.py:439: UserWarning: 1Torch was not compiled with flash attention. (Triggered internally at ..\\aten\\src\\ATen\\native\\transformers\\cuda\\sdp_utils.cpp:455.)\n",
      "  attn_output = torch.nn.functional.scaled_dot_product_attention(\n"
     ]
    }
   ],
   "source": [
    "embeddings = model.encode(docs)"
   ]
  },
  {
   "cell_type": "code",
   "execution_count": 8,
   "id": "228f4651-6298-4b74-8a32-22ced882e9de",
   "metadata": {},
   "outputs": [],
   "source": [
    "docs2 = [\"The cat jumped over the dog\"]"
   ]
  },
  {
   "cell_type": "code",
   "execution_count": 9,
   "id": "d41a784a-4bfa-4388-9396-6a2a064eb7a8",
   "metadata": {},
   "outputs": [
    {
     "data": {
      "text/plain": [
       "['The', 'cat', 'dog', 'jumped', 'over', 'the']"
      ]
     },
     "execution_count": 9,
     "metadata": {},
     "output_type": "execute_result"
    }
   ],
   "source": [
    "split_docs2 = sorted(docs2[0].split(' '))\n",
    "split_docs2"
   ]
  },
  {
   "cell_type": "code",
   "execution_count": 10,
   "id": "af5b7a83-9997-4c60-abbe-8e274b7edf94",
   "metadata": {},
   "outputs": [],
   "source": [
    "embeddings2 = model.encode(docs2)"
   ]
  },
  {
   "cell_type": "code",
   "execution_count": 11,
   "id": "96e7db7b-635b-4653-8174-edcbdbaf6fd0",
   "metadata": {},
   "outputs": [
    {
     "data": {
      "text/plain": [
       "tensor([[1.]])"
      ]
     },
     "execution_count": 11,
     "metadata": {},
     "output_type": "execute_result"
    }
   ],
   "source": [
    "model.similarity(embeddings,embeddings)"
   ]
  },
  {
   "cell_type": "code",
   "execution_count": 12,
   "id": "943b41ed-4486-4e97-a741-3753a1c98dd7",
   "metadata": {},
   "outputs": [
    {
     "data": {
      "text/plain": [
       "tensor([[0.9895]])"
      ]
     },
     "execution_count": 12,
     "metadata": {},
     "output_type": "execute_result"
    }
   ],
   "source": [
    "model.similarity(embeddings,embeddings2)"
   ]
  },
  {
   "cell_type": "code",
   "execution_count": 13,
   "id": "ab5c2dba-7f33-4a99-8650-353840eabafd",
   "metadata": {},
   "outputs": [],
   "source": [
    "embeddings3 = model.encode([\"The dog is hot from jumping\"])"
   ]
  },
  {
   "cell_type": "code",
   "execution_count": 14,
   "id": "120dcaba-806b-4896-b495-5fb6af565839",
   "metadata": {},
   "outputs": [
    {
     "data": {
      "text/plain": [
       "tensor([[0.4310]])"
      ]
     },
     "execution_count": 14,
     "metadata": {},
     "output_type": "execute_result"
    }
   ],
   "source": [
    "model.similarity(embeddings,embeddings3)"
   ]
  },
  {
   "cell_type": "code",
   "execution_count": 15,
   "id": "7766c6bf-837f-4d30-9dc7-7270cc61e906",
   "metadata": {},
   "outputs": [
    {
     "data": {
      "text/plain": [
       "tensor([[-0.0660]])"
      ]
     },
     "execution_count": 15,
     "metadata": {},
     "output_type": "execute_result"
    }
   ],
   "source": [
    "embeddings4 = model.encode([\"The weather is hot\"])\n",
    "model.similarity(embeddings,embeddings4)"
   ]
  },
  {
   "cell_type": "code",
   "execution_count": 16,
   "id": "87746496-8039-46a9-a1a5-3c7017dd1b86",
   "metadata": {},
   "outputs": [
    {
     "data": {
      "text/plain": [
       "array([[ 4.72092405e-02,  3.36050168e-02,  6.90095797e-02,\n",
       "         6.85966536e-02, -1.26861362e-02, -6.25285786e-03,\n",
       "        -3.72543558e-02,  1.55753251e-02,  2.41127927e-02,\n",
       "         2.21971259e-03,  7.17992485e-02,  2.92151496e-02,\n",
       "         5.03158243e-03, -6.37696683e-02,  4.89645451e-03,\n",
       "         1.07080513e-03, -1.23178750e-01,  9.51719750e-03,\n",
       "         5.84049113e-02, -1.34706302e-02, -2.93736942e-02,\n",
       "        -4.55944724e-02, -1.06726689e-02, -4.11552712e-02,\n",
       "        -3.63231413e-02,  3.73865589e-02, -8.08678567e-02,\n",
       "        -6.92620650e-02,  1.39805051e-02, -1.62780937e-02,\n",
       "        -2.12400239e-02, -8.98966752e-03, -3.35779563e-02,\n",
       "         5.97752519e-02, -6.10135794e-02, -7.63887540e-02,\n",
       "         6.19943030e-02,  3.30314389e-03,  3.82678211e-02,\n",
       "         1.23094991e-01, -3.98203135e-02,  7.74866808e-03,\n",
       "        -1.22558326e-02, -2.10482674e-03, -3.81270200e-02,\n",
       "         6.25126585e-02, -1.30795864e-02, -6.36047497e-02,\n",
       "         3.17580141e-02,  5.67504279e-02, -1.24570988e-02,\n",
       "         9.28938687e-02,  1.28329126e-02,  4.26351558e-03,\n",
       "        -3.06692254e-02, -2.12269071e-02, -1.05060712e-02,\n",
       "        -1.06701732e-03,  9.03409999e-03, -9.17110518e-02,\n",
       "        -3.65995802e-02,  5.63249812e-02,  1.30696110e-02,\n",
       "         7.12005123e-02,  2.41018366e-02, -4.02709749e-03,\n",
       "        -2.95967776e-02,  8.73770937e-03, -3.27959657e-02,\n",
       "         7.57316276e-02,  6.74551278e-02, -5.97921535e-02,\n",
       "        -2.18018368e-02, -4.76420149e-02,  8.67248891e-05,\n",
       "         1.69717390e-02,  4.07828912e-02, -1.44925928e-02,\n",
       "         2.73144394e-02,  3.89508530e-02,  2.99173556e-02,\n",
       "        -4.69834246e-02, -2.68170014e-02,  8.42826813e-03,\n",
       "         5.28471619e-02,  6.88643008e-02,  1.32485796e-02,\n",
       "        -1.13095227e-03, -4.26306240e-02,  5.93898864e-03,\n",
       "         8.36270452e-02, -7.49354437e-02, -2.25447230e-02,\n",
       "         2.79743429e-02, -6.21411964e-05, -1.44020747e-02,\n",
       "         1.41254505e-02, -3.81299369e-02,  4.55967300e-02,\n",
       "        -1.70210202e-04,  1.67241693e-02,  1.98970847e-02,\n",
       "        -4.46505137e-02,  3.20596597e-03, -1.03554232e-02,\n",
       "         5.18428460e-02,  2.58499458e-02, -1.82425026e-02,\n",
       "         3.90933678e-02,  4.49483190e-03,  1.81336293e-03,\n",
       "        -4.20808792e-02, -2.64774612e-03,  2.49012541e-02,\n",
       "         4.76352219e-03,  2.95294560e-02, -1.00575509e-02,\n",
       "        -7.25562871e-02,  4.65890653e-02, -1.00567088e-01,\n",
       "         1.10429972e-02,  3.41703370e-02, -2.87686195e-02,\n",
       "         3.63498442e-02, -8.35471079e-02, -5.64333564e-03,\n",
       "        -3.21779512e-02, -6.29329406e-33, -4.08413541e-03,\n",
       "        -6.72596171e-02, -1.14535853e-01, -8.60982239e-02,\n",
       "         2.95935366e-02,  2.69726608e-02,  4.59496677e-02,\n",
       "        -3.08206235e-03, -1.23915009e-01,  6.18215045e-03,\n",
       "        -1.08736292e-01,  2.45321896e-02, -3.44574973e-02,\n",
       "        -6.73222542e-02, -4.37792726e-02, -1.23030157e-04,\n",
       "        -7.90959746e-02,  2.48697866e-03,  1.44435437e-02,\n",
       "         5.67662492e-02,  2.45719608e-02, -1.87796750e-03,\n",
       "        -6.87090680e-03,  3.22064459e-02, -7.62374653e-03,\n",
       "         3.58338244e-02, -8.37533176e-02, -7.97525980e-03,\n",
       "        -7.58397952e-03,  5.47425868e-03,  3.07897292e-02,\n",
       "        -7.25282636e-03,  3.01134754e-02,  8.13684389e-02,\n",
       "        -1.01099737e-01, -2.73130951e-03,  6.38258224e-03,\n",
       "        -4.21030298e-02,  6.91264030e-03,  5.66435866e-02,\n",
       "         3.23042162e-02,  3.59569564e-02,  3.09580937e-02,\n",
       "        -4.45846394e-02, -2.08867602e-02, -3.62370834e-02,\n",
       "        -5.14245071e-02,  5.91542397e-04, -5.85282817e-02,\n",
       "         4.29066643e-02,  9.78493970e-03, -3.97967659e-02,\n",
       "         3.03792674e-02,  2.88908463e-02, -6.26284629e-02,\n",
       "         3.13719809e-02,  7.99965486e-03, -3.94616723e-02,\n",
       "        -4.05245051e-02,  1.53085694e-01,  2.59497073e-02,\n",
       "        -5.89512661e-03,  9.26737860e-02, -3.77385430e-02,\n",
       "         1.05251536e-01, -9.34893638e-02,  1.95522234e-02,\n",
       "         1.82549395e-02,  2.28665713e-02,  3.25190350e-02,\n",
       "        -6.00352027e-02, -2.13981047e-02, -1.39885312e-02,\n",
       "        -2.26340257e-02,  1.07471859e-02,  1.63241988e-03,\n",
       "        -1.05444767e-01, -1.04314592e-02, -2.98149697e-02,\n",
       "         1.97162423e-02,  1.02182806e-01, -5.51809072e-02,\n",
       "         1.12161011e-01,  4.55092043e-02, -8.66249483e-03,\n",
       "         9.44400504e-02,  1.07874610e-02, -4.32968736e-02,\n",
       "        -7.35958442e-02,  4.46881093e-02, -5.76534569e-02,\n",
       "         3.13753746e-02,  5.50542288e-02, -5.84391654e-02,\n",
       "         7.15372190e-02,  3.72108945e-33,  1.58393905e-02,\n",
       "        -6.40949160e-02,  4.42647822e-02,  1.83350183e-02,\n",
       "        -1.41719088e-01,  2.54531838e-02, -4.73350612e-03,\n",
       "        -4.48370911e-02, -5.70793599e-02, -1.83952637e-02,\n",
       "         4.54422785e-03,  3.00054979e-02,  9.58207622e-02,\n",
       "         1.51274893e-02,  5.74189872e-02, -3.56430374e-03,\n",
       "        -5.65455146e-02,  1.41206207e-02, -7.86724966e-03,\n",
       "        -1.85281187e-02, -7.67951384e-02,  3.52232829e-02,\n",
       "         3.77433300e-02,  6.88036978e-02,  1.03567086e-01,\n",
       "        -1.87857375e-02,  4.22471501e-02,  2.04602107e-02,\n",
       "         1.42207146e-01, -1.70064658e-01,  8.77113938e-02,\n",
       "        -9.17931721e-02,  1.76482815e-02,  3.39259915e-02,\n",
       "         4.80807759e-02,  7.87265375e-02, -1.78247411e-02,\n",
       "         3.90492976e-02,  4.34681103e-02, -3.24376263e-02,\n",
       "        -9.82863945e-04, -2.58321129e-02, -9.11474451e-02,\n",
       "        -1.98325310e-02, -1.88254714e-02,  1.21096820e-02,\n",
       "        -4.97272387e-02,  8.03971547e-04,  1.00843301e-02,\n",
       "        -4.19992693e-02, -8.24326947e-02, -8.95676389e-02,\n",
       "         1.09379843e-01,  2.12304946e-02,  3.33093852e-02,\n",
       "         5.06718308e-02,  1.20277852e-01,  8.50601494e-03,\n",
       "        -1.20349526e-02, -1.97898764e-02,  2.11428702e-02,\n",
       "         5.40899672e-02,  7.98444450e-02, -8.20084568e-03,\n",
       "        -7.38502368e-02, -1.08506978e-02,  1.69663485e-02,\n",
       "        -1.82815120e-02,  1.01784235e-02, -9.47181955e-02,\n",
       "        -1.03597890e-03,  7.16945678e-02, -1.56212933e-02,\n",
       "        -2.91726030e-02,  8.48328869e-04,  6.66561574e-02,\n",
       "         8.25965554e-02,  3.73382680e-02,  3.72809209e-02,\n",
       "        -8.93745795e-02, -2.57701781e-02, -3.89345698e-02,\n",
       "        -3.50353457e-02,  5.20156883e-02,  2.95812506e-02,\n",
       "         2.24321000e-02,  1.80885443e-04,  6.74417987e-02,\n",
       "        -4.30698991e-02, -5.22616208e-02, -2.33667996e-02,\n",
       "         2.24496983e-02,  2.82612443e-02, -4.13210131e-02,\n",
       "         2.69284239e-03, -1.54635575e-08, -6.67733103e-02,\n",
       "         6.34674355e-03, -9.27698389e-02,  2.62686759e-02,\n",
       "         8.18805248e-02,  5.19817248e-02, -4.02191989e-02,\n",
       "        -8.42549801e-02, -5.93853220e-02, -5.99686503e-02,\n",
       "         2.73107663e-02, -7.36553818e-02,  2.12238226e-02,\n",
       "         3.83131281e-02, -2.64682714e-02,  1.61005754e-03,\n",
       "        -4.24509309e-02,  5.99909946e-02,  8.10987428e-02,\n",
       "         2.12833002e-01, -9.78133082e-02,  2.45644748e-02,\n",
       "        -9.40957814e-02, -4.70139831e-02,  2.56397165e-02,\n",
       "         4.24515195e-02, -5.95228039e-02,  2.67450716e-02,\n",
       "         2.17074864e-02, -3.45471315e-02, -6.88107451e-03,\n",
       "        -4.83707488e-02, -2.75955871e-02, -4.16628551e-03,\n",
       "         1.21461498e-02,  3.29852989e-03,  8.06904510e-02,\n",
       "        -8.01259875e-02, -7.88576435e-03, -6.09367825e-02,\n",
       "         3.13197710e-02,  8.74251127e-02,  5.24751619e-02,\n",
       "        -3.71867120e-02,  1.21963555e-02,  2.96359230e-02,\n",
       "         1.92116164e-02, -7.66872093e-02,  2.92952433e-02,\n",
       "         6.28225505e-02, -8.35423358e-03,  7.12383315e-02,\n",
       "         2.44259574e-02, -6.16911054e-03, -2.69643720e-02,\n",
       "        -2.53030807e-02, -4.07200083e-02, -1.37237133e-02,\n",
       "         1.74375735e-02,  4.65289876e-02,  2.35925317e-02,\n",
       "        -3.43674980e-03, -3.65914404e-03,  9.21025276e-02]], dtype=float32)"
      ]
     },
     "execution_count": 16,
     "metadata": {},
     "output_type": "execute_result"
    }
   ],
   "source": [
    "embeddings2"
   ]
  },
  {
   "cell_type": "code",
   "execution_count": null,
   "id": "4d3f1589-9ff8-4fd3-87ce-743ff4cd56b7",
   "metadata": {},
   "outputs": [],
   "source": []
  },
  {
   "cell_type": "code",
   "execution_count": null,
   "id": "2540ef10-b0f2-4c8a-8eec-926a63a6c100",
   "metadata": {},
   "outputs": [],
   "source": []
  }
 ],
 "metadata": {
  "kernelspec": {
   "display_name": "Python 3 (ipykernel)",
   "language": "python",
   "name": "python3"
  },
  "language_info": {
   "codemirror_mode": {
    "name": "ipython",
    "version": 3
   },
   "file_extension": ".py",
   "mimetype": "text/x-python",
   "name": "python",
   "nbconvert_exporter": "python",
   "pygments_lexer": "ipython3",
   "version": "3.12.4"
  }
 },
 "nbformat": 4,
 "nbformat_minor": 5
}
